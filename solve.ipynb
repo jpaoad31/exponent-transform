{
 "cells": [
  {
   "cell_type": "code",
   "execution_count": 1,
   "id": "78ef26ff",
   "metadata": {},
   "outputs": [],
   "source": [
    "def strong_prime(bit_length):\n",
    "    p = random_prime(2^bit_length)\n",
    "    while not is_prime(Integer((p-1)//2)):\n",
    "        p = random_prime(2^bit_length - 1, false, 2^(bit_length-1))\n",
    "    return p\n",
    "\n",
    "def problem_gen(p, q, e_s_bits, e_p=65537):\n",
    "    N = p * q\n",
    "    e_s = random_prime(2^e_s_bits - 1, false, 2^(e_s_bits-1))\n",
    "    phi = (p-1) * (q-1)\n",
    "    t = ZZ((pow(e_p, -1, phi) * e_s) % phi)\n",
    "    return ((N, e_p, t), (p, q, e_s))"
   ]
  },
  {
   "cell_type": "code",
   "execution_count": 24,
   "id": "f1f5c7a3",
   "metadata": {},
   "outputs": [],
   "source": [
    "p = strong_prime(512)\n",
    "q = strong_prime(512)"
   ]
  },
  {
   "cell_type": "code",
   "execution_count": 25,
   "id": "e401b7dd",
   "metadata": {},
   "outputs": [],
   "source": [
    "((N, e_p, t), (p, q, e_s)) = problem_gen(p, q, 512)"
   ]
  },
  {
   "cell_type": "code",
   "execution_count": 26,
   "id": "2fe26a78",
   "metadata": {},
   "outputs": [],
   "source": [
    "a = e_p * t"
   ]
  },
  {
   "cell_type": "code",
   "execution_count": 27,
   "id": "c28b77ef",
   "metadata": {},
   "outputs": [],
   "source": [
    "k = round(a / N)"
   ]
  },
  {
   "cell_type": "code",
   "execution_count": 29,
   "id": "7abfc005",
   "metadata": {},
   "outputs": [],
   "source": [
    "assert(k == (a - e_s) / ((p-1)*(q-1)))"
   ]
  },
  {
   "cell_type": "code",
   "execution_count": 7,
   "id": "584ad070",
   "metadata": {},
   "outputs": [],
   "source": [
    "# a - x = k(N - y + 1)\n",
    "assert(a - e_s == k*(N - (p+q) + 1))"
   ]
  },
  {
   "cell_type": "code",
   "execution_count": 8,
   "id": "912858ed",
   "metadata": {},
   "outputs": [],
   "source": [
    "# a - x = k(N - y + 1), solve for x and y (x is e_s, y is p+q)"
   ]
  },
  {
   "cell_type": "code",
   "execution_count": 9,
   "id": "0e809fe2",
   "metadata": {},
   "outputs": [],
   "source": [
    "# x - ky + (k + kN - a) = 0\n",
    "X = 2^80\n",
    "Y = floor(2*sqrt(N))\n",
    "W = max([X, k*Y, k + k*N - a])"
   ]
  },
  {
   "cell_type": "code",
   "execution_count": 10,
   "id": "fd2b476d",
   "metadata": {},
   "outputs": [
    {
     "data": {
      "text/plain": [
       "3.1356091469337386e+158"
      ]
     },
     "execution_count": 10,
     "metadata": {},
     "output_type": "execute_result"
    }
   ],
   "source": [
    "float(W)"
   ]
  },
  {
   "cell_type": "code",
   "execution_count": 11,
   "id": "c2516aba",
   "metadata": {},
   "outputs": [
    {
     "data": {
      "text/plain": [
       "2.221327142523665e+178"
      ]
     },
     "execution_count": 11,
     "metadata": {},
     "output_type": "execute_result"
    }
   ],
   "source": [
    "float(X*Y)"
   ]
  },
  {
   "cell_type": "code",
   "execution_count": 128,
   "id": "303a45f1",
   "metadata": {},
   "outputs": [
    {
     "data": {
      "text/plain": [
       "2.3535166892827927e+178"
      ]
     },
     "execution_count": 128,
     "metadata": {},
     "output_type": "execute_result"
    }
   ],
   "source": [
    "float(X*Y)"
   ]
  },
  {
   "cell_type": "code",
   "execution_count": null,
   "id": "1725e376",
   "metadata": {},
   "outputs": [],
   "source": []
  }
 ],
 "metadata": {
  "kernelspec": {
   "display_name": "SageMath 9.6",
   "language": "sage",
   "name": "sagemath"
  },
  "language_info": {
   "codemirror_mode": {
    "name": "ipython",
    "version": 3
   },
   "file_extension": ".py",
   "mimetype": "text/x-python",
   "name": "python",
   "nbconvert_exporter": "python",
   "pygments_lexer": "ipython3",
   "version": "3.11.6"
  }
 },
 "nbformat": 4,
 "nbformat_minor": 5
}
